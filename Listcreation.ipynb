{
 "cells": [
  {
   "cell_type": "markdown",
   "metadata": {},
   "source": [
    "# CREATION OF ARRAY FOR CHOICE TASK SETUP"
   ]
  },
  {
   "cell_type": "code",
   "execution_count": 47,
   "metadata": {},
   "outputs": [],
   "source": [
    "products = [\n",
    "   \"A\", \"B\", \"E\", \"F\", \"I\", \"J\", \"M\", \"N\", \"Q\", \"S\", \"X\", \"W\"\n",
    "]"
   ]
  },
  {
   "cell_type": "code",
   "execution_count": 48,
   "metadata": {},
   "outputs": [],
   "source": [
    "from itertools import combinations\n",
    "import random"
   ]
  },
  {
   "cell_type": "code",
   "execution_count": 49,
   "metadata": {
    "scrolled": true
   },
   "outputs": [],
   "source": [
    "combs = combinations(products, 2)"
   ]
  },
  {
   "cell_type": "code",
   "execution_count": 50,
   "metadata": {},
   "outputs": [],
   "source": [
    "combinationlist = list(combs)"
   ]
  },
  {
   "cell_type": "code",
   "execution_count": 51,
   "metadata": {},
   "outputs": [
    {
     "data": {
      "text/plain": [
       "66"
      ]
     },
     "execution_count": 51,
     "metadata": {},
     "output_type": "execute_result"
    }
   ],
   "source": [
    "len(combinationlist)"
   ]
  },
  {
   "cell_type": "code",
   "execution_count": 52,
   "metadata": {},
   "outputs": [
    {
     "data": {
      "text/plain": [
       "[('A', 'B'),\n",
       " ('A', 'E'),\n",
       " ('A', 'F'),\n",
       " ('A', 'I'),\n",
       " ('A', 'J'),\n",
       " ('A', 'M'),\n",
       " ('A', 'N'),\n",
       " ('A', 'Q'),\n",
       " ('A', 'S'),\n",
       " ('A', 'X'),\n",
       " ('A', 'W'),\n",
       " ('B', 'E'),\n",
       " ('B', 'F'),\n",
       " ('B', 'I'),\n",
       " ('B', 'J'),\n",
       " ('B', 'M'),\n",
       " ('B', 'N'),\n",
       " ('B', 'Q'),\n",
       " ('B', 'S'),\n",
       " ('B', 'X'),\n",
       " ('B', 'W'),\n",
       " ('E', 'F'),\n",
       " ('E', 'I'),\n",
       " ('E', 'J'),\n",
       " ('E', 'M'),\n",
       " ('E', 'N'),\n",
       " ('E', 'Q'),\n",
       " ('E', 'S'),\n",
       " ('E', 'X'),\n",
       " ('E', 'W'),\n",
       " ('F', 'I'),\n",
       " ('F', 'J'),\n",
       " ('F', 'M'),\n",
       " ('F', 'N'),\n",
       " ('F', 'Q'),\n",
       " ('F', 'S'),\n",
       " ('F', 'X'),\n",
       " ('F', 'W'),\n",
       " ('I', 'J'),\n",
       " ('I', 'M'),\n",
       " ('I', 'N'),\n",
       " ('I', 'Q'),\n",
       " ('I', 'S'),\n",
       " ('I', 'X'),\n",
       " ('I', 'W'),\n",
       " ('J', 'M'),\n",
       " ('J', 'N'),\n",
       " ('J', 'Q'),\n",
       " ('J', 'S'),\n",
       " ('J', 'X'),\n",
       " ('J', 'W'),\n",
       " ('M', 'N'),\n",
       " ('M', 'Q'),\n",
       " ('M', 'S'),\n",
       " ('M', 'X'),\n",
       " ('M', 'W'),\n",
       " ('N', 'Q'),\n",
       " ('N', 'S'),\n",
       " ('N', 'X'),\n",
       " ('N', 'W'),\n",
       " ('Q', 'S'),\n",
       " ('Q', 'X'),\n",
       " ('Q', 'W'),\n",
       " ('S', 'X'),\n",
       " ('S', 'W'),\n",
       " ('X', 'W')]"
      ]
     },
     "execution_count": 52,
     "metadata": {},
     "output_type": "execute_result"
    }
   ],
   "source": [
    "combinationlist"
   ]
  },
  {
   "cell_type": "code",
   "execution_count": 54,
   "metadata": {},
   "outputs": [],
   "source": [
    "random.shuffle(combinationlist)"
   ]
  },
  {
   "cell_type": "code",
   "execution_count": 55,
   "metadata": {},
   "outputs": [
    {
     "data": {
      "text/plain": [
       "[('I', 'N'),\n",
       " ('Q', 'X'),\n",
       " ('A', 'S'),\n",
       " ('B', 'S'),\n",
       " ('A', 'I'),\n",
       " ('J', 'M'),\n",
       " ('I', 'M'),\n",
       " ('M', 'S'),\n",
       " ('M', 'X'),\n",
       " ('E', 'Q'),\n",
       " ('M', 'Q'),\n",
       " ('S', 'X'),\n",
       " ('E', 'F'),\n",
       " ('F', 'X'),\n",
       " ('E', 'S'),\n",
       " ('N', 'Q'),\n",
       " ('I', 'Q'),\n",
       " ('B', 'Q'),\n",
       " ('A', 'J'),\n",
       " ('A', 'Q'),\n",
       " ('N', 'S'),\n",
       " ('I', 'S'),\n",
       " ('E', 'M'),\n",
       " ('B', 'I'),\n",
       " ('J', 'N'),\n",
       " ('F', 'J'),\n",
       " ('E', 'N'),\n",
       " ('A', 'M'),\n",
       " ('B', 'X'),\n",
       " ('I', 'W'),\n",
       " ('A', 'E'),\n",
       " ('I', 'J'),\n",
       " ('N', 'X'),\n",
       " ('E', 'W'),\n",
       " ('B', 'J'),\n",
       " ('F', 'S'),\n",
       " ('B', 'N'),\n",
       " ('F', 'M'),\n",
       " ('A', 'F'),\n",
       " ('J', 'X'),\n",
       " ('E', 'I'),\n",
       " ('B', 'E'),\n",
       " ('M', 'N'),\n",
       " ('S', 'W'),\n",
       " ('J', 'W'),\n",
       " ('F', 'W'),\n",
       " ('Q', 'S'),\n",
       " ('F', 'Q'),\n",
       " ('X', 'W'),\n",
       " ('I', 'X'),\n",
       " ('J', 'S'),\n",
       " ('A', 'N'),\n",
       " ('A', 'X'),\n",
       " ('A', 'W'),\n",
       " ('J', 'Q'),\n",
       " ('Q', 'W'),\n",
       " ('E', 'X'),\n",
       " ('A', 'B'),\n",
       " ('B', 'W'),\n",
       " ('M', 'W'),\n",
       " ('N', 'W'),\n",
       " ('E', 'J'),\n",
       " ('B', 'F'),\n",
       " ('F', 'N'),\n",
       " ('B', 'M'),\n",
       " ('F', 'I')]"
      ]
     },
     "execution_count": 55,
     "metadata": {},
     "output_type": "execute_result"
    }
   ],
   "source": [
    "combinationlist"
   ]
  },
  {
   "cell_type": "code",
   "execution_count": 56,
   "metadata": {},
   "outputs": [],
   "source": [
    "listL, listR = zip(*combinationlist)"
   ]
  },
  {
   "cell_type": "code",
   "execution_count": 60,
   "metadata": {},
   "outputs": [
    {
     "data": {
      "text/plain": [
       "('I',\n",
       " 'Q',\n",
       " 'A',\n",
       " 'B',\n",
       " 'A',\n",
       " 'J',\n",
       " 'I',\n",
       " 'M',\n",
       " 'M',\n",
       " 'E',\n",
       " 'M',\n",
       " 'S',\n",
       " 'E',\n",
       " 'F',\n",
       " 'E',\n",
       " 'N',\n",
       " 'I',\n",
       " 'B',\n",
       " 'A',\n",
       " 'A',\n",
       " 'N',\n",
       " 'I',\n",
       " 'E',\n",
       " 'B',\n",
       " 'J',\n",
       " 'F',\n",
       " 'E',\n",
       " 'A',\n",
       " 'B',\n",
       " 'I',\n",
       " 'A',\n",
       " 'I',\n",
       " 'N',\n",
       " 'E',\n",
       " 'B',\n",
       " 'F',\n",
       " 'B',\n",
       " 'F',\n",
       " 'A',\n",
       " 'J',\n",
       " 'E',\n",
       " 'B',\n",
       " 'M',\n",
       " 'S',\n",
       " 'J',\n",
       " 'F',\n",
       " 'Q',\n",
       " 'F',\n",
       " 'X',\n",
       " 'I',\n",
       " 'J',\n",
       " 'A',\n",
       " 'A',\n",
       " 'A',\n",
       " 'J',\n",
       " 'Q',\n",
       " 'E',\n",
       " 'A',\n",
       " 'B',\n",
       " 'M',\n",
       " 'N',\n",
       " 'E',\n",
       " 'B',\n",
       " 'F',\n",
       " 'B',\n",
       " 'F')"
      ]
     },
     "execution_count": 60,
     "metadata": {},
     "output_type": "execute_result"
    }
   ],
   "source": [
    "listL"
   ]
  },
  {
   "cell_type": "code",
   "execution_count": 61,
   "metadata": {},
   "outputs": [
    {
     "data": {
      "text/plain": [
       "('N',\n",
       " 'X',\n",
       " 'S',\n",
       " 'S',\n",
       " 'I',\n",
       " 'M',\n",
       " 'M',\n",
       " 'S',\n",
       " 'X',\n",
       " 'Q',\n",
       " 'Q',\n",
       " 'X',\n",
       " 'F',\n",
       " 'X',\n",
       " 'S',\n",
       " 'Q',\n",
       " 'Q',\n",
       " 'Q',\n",
       " 'J',\n",
       " 'Q',\n",
       " 'S',\n",
       " 'S',\n",
       " 'M',\n",
       " 'I',\n",
       " 'N',\n",
       " 'J',\n",
       " 'N',\n",
       " 'M',\n",
       " 'X',\n",
       " 'W',\n",
       " 'E',\n",
       " 'J',\n",
       " 'X',\n",
       " 'W',\n",
       " 'J',\n",
       " 'S',\n",
       " 'N',\n",
       " 'M',\n",
       " 'F',\n",
       " 'X',\n",
       " 'I',\n",
       " 'E',\n",
       " 'N',\n",
       " 'W',\n",
       " 'W',\n",
       " 'W',\n",
       " 'S',\n",
       " 'Q',\n",
       " 'W',\n",
       " 'X',\n",
       " 'S',\n",
       " 'N',\n",
       " 'X',\n",
       " 'W',\n",
       " 'Q',\n",
       " 'W',\n",
       " 'X',\n",
       " 'B',\n",
       " 'W',\n",
       " 'W',\n",
       " 'W',\n",
       " 'J',\n",
       " 'F',\n",
       " 'N',\n",
       " 'M',\n",
       " 'I')"
      ]
     },
     "execution_count": 61,
     "metadata": {},
     "output_type": "execute_result"
    }
   ],
   "source": [
    "listR"
   ]
  },
  {
   "cell_type": "code",
   "execution_count": null,
   "metadata": {},
   "outputs": [],
   "source": []
  }
 ],
 "metadata": {
  "kernelspec": {
   "display_name": "Python 3",
   "language": "python",
   "name": "python3"
  },
  "language_info": {
   "codemirror_mode": {
    "name": "ipython",
    "version": 3
   },
   "file_extension": ".py",
   "mimetype": "text/x-python",
   "name": "python",
   "nbconvert_exporter": "python",
   "pygments_lexer": "ipython3",
   "version": "3.7.3"
  }
 },
 "nbformat": 4,
 "nbformat_minor": 4
}
